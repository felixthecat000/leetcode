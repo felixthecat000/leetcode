{
 "cells": [
  {
   "cell_type": "code",
   "execution_count": 1,
   "metadata": {},
   "outputs": [],
   "source": [
    "def parse_char(s_remainder, char, star=False):\n",
    "    \"\"\"\n",
    "    Match only the current character.\n",
    "    Returns unmatched part of s if successful or None if match incorrect.\n",
    "    \"\"\"\n",
    "\n",
    "    # set match char if wild card\n",
    "    if char == '.':\n",
    "        char = s[0]\n",
    "\n",
    "    if s[0] != char:\n",
    "        if star:\n",
    "            return s_remainder\n",
    "        else:\n",
    "            return ''\n",
    "\n",
    "    # if in 'star' mode get run of same characters\n",
    "    i = 1\n",
    "    if star:\n",
    "        if len(s) > 1:\n",
    "            while s[i] == s[0]:\n",
    "                i += 1\n",
    "\n",
    "    return s[1:]"
   ]
  },
  {
   "cell_type": "code",
   "execution_count": null,
   "metadata": {},
   "outputs": [],
   "source": [
    "parse_char('aa', )"
   ]
  },
  {
   "cell_type": "code",
   "execution_count": null,
   "metadata": {},
   "outputs": [],
   "source": [
    "def select_char(pattern):\n",
    "\n",
    "    # check for star\n",
    "    if len(pattern) > 1:\n",
    "        if pattern[1] == '*':\n",
    "            return pattern[0], True, pattern[2:]\n",
    "\n",
    "    # otherwise return standard match\n",
    "    return pattern[0], False, pattern[1:]\n",
    "\n",
    "while len(s) > 0 and len(p) > 0:\n",
    "    char, star, p = select_char(p)\n",
    "    s = parse_char(s, char, star)\n",
    "\n",
    "if len(s) == 0 and len(p) == 0:\n",
    "    return True\n",
    "else:\n",
    "    return False"
   ]
  }
 ],
 "metadata": {
  "kernelspec": {
   "display_name": "Python 3",
   "language": "python",
   "name": "python3"
  },
  "language_info": {
   "codemirror_mode": {
    "name": "ipython",
    "version": 3
   },
   "file_extension": ".py",
   "mimetype": "text/x-python",
   "name": "python",
   "nbconvert_exporter": "python",
   "pygments_lexer": "ipython3",
   "version": "3.7.1"
  }
 },
 "nbformat": 4,
 "nbformat_minor": 2
}
